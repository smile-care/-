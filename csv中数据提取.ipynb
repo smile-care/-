{
 "cells": [
  {
   "cell_type": "code",
   "execution_count": 1,
   "metadata": {},
   "outputs": [],
   "source": [
    "import pandas as pd\n",
    "import os\n",
    "import numpy as np\n",
    "import csv\n",
    "import re"
   ]
  },
  {
   "cell_type": "code",
   "execution_count": 2,
   "metadata": {},
   "outputs": [],
   "source": [
    "csv_path = r'G:\\Deep_Learning\\kaggle\\global-wheat-detection\\dataset\\train.csv'\n",
    "# train_dir = r'G:\\Deep_Learning\\kaggle\\global-wheat-detection\\dataset\\train'"
   ]
  },
  {
   "cell_type": "code",
   "execution_count": 3,
   "metadata": {},
   "outputs": [
    {
     "output_type": "execute_result",
     "data": {
      "text/plain": "    image_id  width  height                         bbox   source\n0  b6ab77fd7   1024    1024   [834.0, 222.0, 56.0, 36.0]  usask_1\n1  b6ab77fd7   1024    1024  [226.0, 548.0, 130.0, 58.0]  usask_1\n2  b6ab77fd7   1024    1024  [377.0, 504.0, 74.0, 160.0]  usask_1\n3  b6ab77fd7   1024    1024  [834.0, 95.0, 109.0, 107.0]  usask_1\n4  b6ab77fd7   1024    1024  [26.0, 144.0, 124.0, 117.0]  usask_1",
      "text/html": "<div>\n<style scoped>\n    .dataframe tbody tr th:only-of-type {\n        vertical-align: middle;\n    }\n\n    .dataframe tbody tr th {\n        vertical-align: top;\n    }\n\n    .dataframe thead th {\n        text-align: right;\n    }\n</style>\n<table border=\"1\" class=\"dataframe\">\n  <thead>\n    <tr style=\"text-align: right;\">\n      <th></th>\n      <th>image_id</th>\n      <th>width</th>\n      <th>height</th>\n      <th>bbox</th>\n      <th>source</th>\n    </tr>\n  </thead>\n  <tbody>\n    <tr>\n      <th>0</th>\n      <td>b6ab77fd7</td>\n      <td>1024</td>\n      <td>1024</td>\n      <td>[834.0, 222.0, 56.0, 36.0]</td>\n      <td>usask_1</td>\n    </tr>\n    <tr>\n      <th>1</th>\n      <td>b6ab77fd7</td>\n      <td>1024</td>\n      <td>1024</td>\n      <td>[226.0, 548.0, 130.0, 58.0]</td>\n      <td>usask_1</td>\n    </tr>\n    <tr>\n      <th>2</th>\n      <td>b6ab77fd7</td>\n      <td>1024</td>\n      <td>1024</td>\n      <td>[377.0, 504.0, 74.0, 160.0]</td>\n      <td>usask_1</td>\n    </tr>\n    <tr>\n      <th>3</th>\n      <td>b6ab77fd7</td>\n      <td>1024</td>\n      <td>1024</td>\n      <td>[834.0, 95.0, 109.0, 107.0]</td>\n      <td>usask_1</td>\n    </tr>\n    <tr>\n      <th>4</th>\n      <td>b6ab77fd7</td>\n      <td>1024</td>\n      <td>1024</td>\n      <td>[26.0, 144.0, 124.0, 117.0]</td>\n      <td>usask_1</td>\n    </tr>\n  </tbody>\n</table>\n</div>"
     },
     "metadata": {},
     "execution_count": 3
    }
   ],
   "source": [
    "df = pd.read_csv(csv_path)\n",
    "df.head()"
   ]
  },
  {
   "cell_type": "code",
   "execution_count": 4,
   "metadata": {},
   "outputs": [],
   "source": [
    "def process_bbox(df):\n",
    "    ids = []\n",
    "    values = []\n",
    "    imd = np.unique(df['image_id'])\n",
    "    df['bbox'] = df['bbox'].apply(lambda x: eval(x))\n",
    "    # for image_id in os.listdir(train_dir):\n",
    "    #     image_id = image_id.split('.')[0]\n",
    "    #     if image_id not in imd :\n",
    "    #         ids.append(image_id)\n",
    "    #         values.append(str([-1,-1,-1,-1]))\n",
    "    # new_df = {'image_id':ids, 'bbox':values}\n",
    "    # new_df = pd.DataFrame(new_df)\n",
    "    df = df[['image_id','bbox']]\n",
    "    # df.append(new_df)\n",
    "    df = df.reset_index(drop=True)\n",
    "    df['x'] = df['bbox'].apply(lambda x: x[0])\n",
    "    df['y'] = df['bbox'].apply(lambda x: x[1])\n",
    "    df['w'] = df['bbox'].apply(lambda x: x[2])\n",
    "    df['h'] = df['bbox'].apply(lambda x: x[3])\n",
    "\n",
    "    df.drop(columns=['bbox'],inplace=True)\n",
    "    return df"
   ]
  },
  {
   "cell_type": "code",
   "execution_count": 5,
   "metadata": {},
   "outputs": [
    {
     "output_type": "execute_result",
     "data": {
      "text/plain": "    image_id      x      y      w      h\n0  b6ab77fd7  834.0  222.0   56.0   36.0\n1  b6ab77fd7  226.0  548.0  130.0   58.0\n2  b6ab77fd7  377.0  504.0   74.0  160.0\n3  b6ab77fd7  834.0   95.0  109.0  107.0\n4  b6ab77fd7   26.0  144.0  124.0  117.0",
      "text/html": "<div>\n<style scoped>\n    .dataframe tbody tr th:only-of-type {\n        vertical-align: middle;\n    }\n\n    .dataframe tbody tr th {\n        vertical-align: top;\n    }\n\n    .dataframe thead th {\n        text-align: right;\n    }\n</style>\n<table border=\"1\" class=\"dataframe\">\n  <thead>\n    <tr style=\"text-align: right;\">\n      <th></th>\n      <th>image_id</th>\n      <th>x</th>\n      <th>y</th>\n      <th>w</th>\n      <th>h</th>\n    </tr>\n  </thead>\n  <tbody>\n    <tr>\n      <th>0</th>\n      <td>b6ab77fd7</td>\n      <td>834.0</td>\n      <td>222.0</td>\n      <td>56.0</td>\n      <td>36.0</td>\n    </tr>\n    <tr>\n      <th>1</th>\n      <td>b6ab77fd7</td>\n      <td>226.0</td>\n      <td>548.0</td>\n      <td>130.0</td>\n      <td>58.0</td>\n    </tr>\n    <tr>\n      <th>2</th>\n      <td>b6ab77fd7</td>\n      <td>377.0</td>\n      <td>504.0</td>\n      <td>74.0</td>\n      <td>160.0</td>\n    </tr>\n    <tr>\n      <th>3</th>\n      <td>b6ab77fd7</td>\n      <td>834.0</td>\n      <td>95.0</td>\n      <td>109.0</td>\n      <td>107.0</td>\n    </tr>\n    <tr>\n      <th>4</th>\n      <td>b6ab77fd7</td>\n      <td>26.0</td>\n      <td>144.0</td>\n      <td>124.0</td>\n      <td>117.0</td>\n    </tr>\n  </tbody>\n</table>\n</div>"
     },
     "metadata": {},
     "execution_count": 5
    }
   ],
   "source": [
    "df_ = process_bbox(df)\n",
    "\n",
    "df_.head()"
   ]
  },
  {
   "cell_type": "code",
   "execution_count": 6,
   "metadata": {},
   "outputs": [
    {
     "output_type": "stream",
     "name": "stdout",
     "text": "['b6ab77fd7' 'b53afdf5c' '7b72ea0fb' ... 'a5c8d5f5c' 'e6b5e296d'\n '5e0747034']\n"
    },
    {
     "output_type": "execute_result",
     "data": {
      "text/plain": "3373"
     },
     "metadata": {},
     "execution_count": 6
    }
   ],
   "source": [
    "names = df_.loc[:,'image_id'].unique()\n",
    "print(names)\n",
    "len(names)"
   ]
  },
  {
   "cell_type": "code",
   "execution_count": 7,
   "metadata": {},
   "outputs": [
    {
     "output_type": "execute_result",
     "data": {
      "text/plain": "               x      y      w      h\nimage_id                             \nb6ab77fd7  834.0  222.0   56.0   36.0\nb6ab77fd7  226.0  548.0  130.0   58.0\nb6ab77fd7  377.0  504.0   74.0  160.0\nb6ab77fd7  834.0   95.0  109.0  107.0\nb6ab77fd7   26.0  144.0  124.0  117.0",
      "text/html": "<div>\n<style scoped>\n    .dataframe tbody tr th:only-of-type {\n        vertical-align: middle;\n    }\n\n    .dataframe tbody tr th {\n        vertical-align: top;\n    }\n\n    .dataframe thead th {\n        text-align: right;\n    }\n</style>\n<table border=\"1\" class=\"dataframe\">\n  <thead>\n    <tr style=\"text-align: right;\">\n      <th></th>\n      <th>x</th>\n      <th>y</th>\n      <th>w</th>\n      <th>h</th>\n    </tr>\n    <tr>\n      <th>image_id</th>\n      <th></th>\n      <th></th>\n      <th></th>\n      <th></th>\n    </tr>\n  </thead>\n  <tbody>\n    <tr>\n      <th>b6ab77fd7</th>\n      <td>834.0</td>\n      <td>222.0</td>\n      <td>56.0</td>\n      <td>36.0</td>\n    </tr>\n    <tr>\n      <th>b6ab77fd7</th>\n      <td>226.0</td>\n      <td>548.0</td>\n      <td>130.0</td>\n      <td>58.0</td>\n    </tr>\n    <tr>\n      <th>b6ab77fd7</th>\n      <td>377.0</td>\n      <td>504.0</td>\n      <td>74.0</td>\n      <td>160.0</td>\n    </tr>\n    <tr>\n      <th>b6ab77fd7</th>\n      <td>834.0</td>\n      <td>95.0</td>\n      <td>109.0</td>\n      <td>107.0</td>\n    </tr>\n    <tr>\n      <th>b6ab77fd7</th>\n      <td>26.0</td>\n      <td>144.0</td>\n      <td>124.0</td>\n      <td>117.0</td>\n    </tr>\n  </tbody>\n</table>\n</div>"
     },
     "metadata": {},
     "execution_count": 7
    }
   ],
   "source": [
    "df_idx = df_.set_index(\"image_id\")\n",
    "df_idx.head()"
   ]
  },
  {
   "cell_type": "code",
   "execution_count": 8,
   "metadata": {},
   "outputs": [],
   "source": [
    "# a = df_idx.loc['f0508910d'].head()"
   ]
  },
  {
   "cell_type": "code",
   "execution_count": 9,
   "metadata": {},
   "outputs": [
    {
     "output_type": "stream",
     "name": "stdout",
     "text": "[[  0. 850.  55. 100.]\n [301. 943.  76.  81.]\n [642. 932.  61.  92.]\n [362. 770. 101. 157.]\n [569. 784. 116. 100.]]\n"
    }
   ],
   "source": [
    "# a1 = a.reset_index(drop=True)\n",
    "# a2 = a1.to_numpy()\n",
    "# print(a2)\n",
    "# for row in a2:\n",
    "#     print('\\n')\n",
    "#     print(row)"
   ]
  },
  {
   "cell_type": "code",
   "execution_count": 10,
   "metadata": {
    "tags": [
     "outputPrepend",
     "outputPrepend",
     "outputPrepend",
     "outputPrepend",
     "outputPrepend",
     "outputPrepend",
     "outputPrepend",
     "outputPrepend",
     "outputPrepend",
     "outputPrepend",
     "outputPrepend",
     "outputPrepend",
     "outputPrepend",
     "outputPrepend",
     "outputPrepend",
     "outputPrepend",
     "outputPrepend",
     "outputPrepend",
     "outputPrepend",
     "outputPrepend",
     "outputPrepend",
     "outputPrepend",
     "outputPrepend",
     "outputPrepend",
     "outputPrepend",
     "outputPrepend",
     "outputPrepend",
     "outputPrepend",
     "outputPrepend",
     "outputPrepend",
     "outputPrepend",
     "outputPrepend",
     "outputPrepend",
     "outputPrepend",
     "outputPrepend",
     "outputPrepend",
     "outputPrepend",
     "outputPrepend",
     "outputPrepend",
     "outputPrepend",
     "outputPrepend",
     "outputPrepend",
     "outputPrepend",
     "outputPrepend",
     "outputPrepend",
     "outputPrepend",
     "outputPrepend",
     "outputPrepend",
     "outputPrepend",
     "outputPrepend",
     "outputPrepend"
    ]
   },
   "outputs": [
    {
     "output_type": "stream",
     "name": "stdout",
     "text": "共 10 次\n0 次错误\n"
    }
   ],
   "source": [
    "scale = 1024\n",
    "i = 0\n",
    "q = 0\n",
    "for name in names:\n",
    "    # print(name, '\\n')\n",
    "    txtName = str(name) + '.txt'\n",
    "    # print(txtName)\n",
    "    f=open('G:\\Deep_Learning\\kaggle\\global-wheat-detection\\demo\\labels/' + txtName, \"a+\")\n",
    "    a = df_idx.loc[str(name)]\n",
    "    a = a.reset_index(drop=True)\n",
    "    a = a.to_numpy()\n",
    "    # print(len(a))\n",
    "    for row in a:\n",
    "        try:\n",
    "            x = row[0]\n",
    "            y = row[1]\n",
    "            w = row[2]\n",
    "            h = row[3]\n",
    "        except IndexError:\n",
    "            q = q + 1\n",
    "            print(name)\n",
    "            continue\n",
    "        x_c = (x + w/2) / scale\n",
    "        y_c = (y + h/2) / scale\n",
    "        w = w / scale\n",
    "        h = h / scale\n",
    "        # print(x, y, w, h )\n",
    "        f.write(str(0)+' '+str(x_c)+' '+str(y_c)+' '+str(w)+' '+str(h)+'\\n')\n",
    "    f.close()\n",
    "    i = i + 1\n",
    "print(\"共\",i,\"次\")\n",
    "print(q,\"次错误\")"
   ]
  },
  {
   "cell_type": "code",
   "execution_count": null,
   "metadata": {},
   "outputs": [],
   "source": []
  },
  {
   "cell_type": "code",
   "execution_count": null,
   "metadata": {},
   "outputs": [],
   "source": []
  }
 ],
 "metadata": {
  "language_info": {
   "codemirror_mode": {
    "name": "ipython",
    "version": 3
   },
   "file_extension": ".py",
   "mimetype": "text/x-python",
   "name": "python",
   "nbconvert_exporter": "python",
   "pygments_lexer": "ipython3",
   "version": "3.6.2-final"
  },
  "orig_nbformat": 2,
  "kernelspec": {
   "name": "python36264bityoloconda24058cec4858409782fb7dc648bf693c",
   "display_name": "Python 3.6.2 64-bit ('yolo': conda)"
  }
 },
 "nbformat": 4,
 "nbformat_minor": 2
}